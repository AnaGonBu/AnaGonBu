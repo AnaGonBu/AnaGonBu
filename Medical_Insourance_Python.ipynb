{
  "metadata": {
    "kernelspec": {
      "language": "python",
      "display_name": "Python 3",
      "name": "python3"
    },
    "language_info": {
      "name": "python",
      "version": "3.7.12",
      "mimetype": "text/x-python",
      "codemirror_mode": {
        "name": "ipython",
        "version": 3
      },
      "pygments_lexer": "ipython3",
      "nbconvert_exporter": "python",
      "file_extension": ".py"
    },
    "kaggle": {
      "accelerator": "none",
      "dataSources": [
        {
          "sourceId": 3750249,
          "sourceType": "datasetVersion",
          "datasetId": 2241021
        }
      ],
      "dockerImageVersionId": 30433,
      "isInternetEnabled": false,
      "language": "python",
      "sourceType": "notebook",
      "isGpuEnabled": false
    },
    "colab": {
      "name": "Medical_Insourance_Python",
      "provenance": []
    }
  },
  "nbformat_minor": 0,
  "nbformat": 4,
  "cells": [
    {
      "source": [
        "\n",
        "# IMPORTANT: RUN THIS CELL IN ORDER TO IMPORT YOUR KAGGLE DATA SOURCES\n",
        "# TO THE CORRECT LOCATION (/kaggle/input) IN YOUR NOTEBOOK,\n",
        "# THEN FEEL FREE TO DELETE THIS CELL.\n",
        "# NOTE: THIS NOTEBOOK ENVIRONMENT DIFFERS FROM KAGGLE'S PYTHON\n",
        "# ENVIRONMENT SO THERE MAY BE MISSING LIBRARIES USED BY YOUR\n",
        "# NOTEBOOK.\n",
        "\n",
        "import os\n",
        "import sys\n",
        "from tempfile import NamedTemporaryFile\n",
        "from urllib.request import urlopen\n",
        "from urllib.parse import unquote, urlparse\n",
        "from urllib.error import HTTPError\n",
        "from zipfile import ZipFile\n",
        "import tarfile\n",
        "import shutil\n",
        "\n",
        "CHUNK_SIZE = 40960\n",
        "DATA_SOURCE_MAPPING = 'medical-insurance-payout:https%3A%2F%2Fstorage.googleapis.com%2Fkaggle-data-sets%2F2241021%2F3750249%2Fbundle%2Farchive.zip%3FX-Goog-Algorithm%3DGOOG4-RSA-SHA256%26X-Goog-Credential%3Dgcp-kaggle-com%2540kaggle-161607.iam.gserviceaccount.com%252F20240417%252Fauto%252Fstorage%252Fgoog4_request%26X-Goog-Date%3D20240417T150030Z%26X-Goog-Expires%3D259200%26X-Goog-SignedHeaders%3Dhost%26X-Goog-Signature%3D79df3531d7607a6b72cfc8b054fbdda7acf7b61e7eafaa6dda41f85cabf1f84a05b6d57ea70f9e098330366057bf0b6127608cebc6c3b9862be13742b8eeda4a719623626ed0a1f5a1383a4cec453be0df0ddfe8be55aaf33490792585c9466684b3b83bfc5ea923ac199428c93b1896c49029d6f65ec88f713b1ba2168da0b8bc011a50e442e206282b373a9154012ba2074625af2f75a87ce2be18a9bd454e2e13ab72d29b9c20f07d2fdf8c9f0b6bb5350c3aa1ce774e05efe917b7de93330ba94dd92776766db3df06ae7e6144a146dee5797103140629248357894ca88536f6a54c8fb450c90731019e8abe7bb17921531b9dd5e786c2bdc60b61f4bb90'\n",
        "\n",
        "KAGGLE_INPUT_PATH='/kaggle/input'\n",
        "KAGGLE_WORKING_PATH='/kaggle/working'\n",
        "KAGGLE_SYMLINK='kaggle'\n",
        "\n",
        "!umount /kaggle/input/ 2> /dev/null\n",
        "shutil.rmtree('/kaggle/input', ignore_errors=True)\n",
        "os.makedirs(KAGGLE_INPUT_PATH, 0o777, exist_ok=True)\n",
        "os.makedirs(KAGGLE_WORKING_PATH, 0o777, exist_ok=True)\n",
        "\n",
        "try:\n",
        "  os.symlink(KAGGLE_INPUT_PATH, os.path.join(\"..\", 'input'), target_is_directory=True)\n",
        "except FileExistsError:\n",
        "  pass\n",
        "try:\n",
        "  os.symlink(KAGGLE_WORKING_PATH, os.path.join(\"..\", 'working'), target_is_directory=True)\n",
        "except FileExistsError:\n",
        "  pass\n",
        "\n",
        "for data_source_mapping in DATA_SOURCE_MAPPING.split(','):\n",
        "    directory, download_url_encoded = data_source_mapping.split(':')\n",
        "    download_url = unquote(download_url_encoded)\n",
        "    filename = urlparse(download_url).path\n",
        "    destination_path = os.path.join(KAGGLE_INPUT_PATH, directory)\n",
        "    try:\n",
        "        with urlopen(download_url) as fileres, NamedTemporaryFile() as tfile:\n",
        "            total_length = fileres.headers['content-length']\n",
        "            print(f'Downloading {directory}, {total_length} bytes compressed')\n",
        "            dl = 0\n",
        "            data = fileres.read(CHUNK_SIZE)\n",
        "            while len(data) > 0:\n",
        "                dl += len(data)\n",
        "                tfile.write(data)\n",
        "                done = int(50 * dl / int(total_length))\n",
        "                sys.stdout.write(f\"\\r[{'=' * done}{' ' * (50-done)}] {dl} bytes downloaded\")\n",
        "                sys.stdout.flush()\n",
        "                data = fileres.read(CHUNK_SIZE)\n",
        "            if filename.endswith('.zip'):\n",
        "              with ZipFile(tfile) as zfile:\n",
        "                zfile.extractall(destination_path)\n",
        "            else:\n",
        "              with tarfile.open(tfile.name) as tarfile:\n",
        "                tarfile.extractall(destination_path)\n",
        "            print(f'\\nDownloaded and uncompressed: {directory}')\n",
        "    except HTTPError as e:\n",
        "        print(f'Failed to load (likely expired) {download_url} to path {destination_path}')\n",
        "        continue\n",
        "    except OSError as e:\n",
        "        print(f'Failed to load {download_url} to path {destination_path}')\n",
        "        continue\n",
        "\n",
        "print('Data source import complete.')\n"
      ],
      "metadata": {
        "id": "mnFDhPjfkuNs",
        "outputId": "6b526be5-a703-4060-b2c1-d90ddcf92b75",
        "colab": {
          "base_uri": "https://localhost:8080/"
        }
      },
      "cell_type": "code",
      "outputs": [
        {
          "output_type": "stream",
          "name": "stdout",
          "text": [
            "Downloading medical-insurance-payout, 16423 bytes compressed\n",
            "\r[==================================================] 16423 bytes downloaded\n",
            "Downloaded and uncompressed: medical-insurance-payout\n",
            "Data source import complete.\n"
          ]
        }
      ],
      "execution_count": 2
    },
    {
      "cell_type": "markdown",
      "source": [],
      "metadata": {
        "id": "wP61z3oxkuNw"
      }
    },
    {
      "cell_type": "markdown",
      "source": [
        "## Target"
      ],
      "metadata": {
        "id": "WiluNo6JkuNx"
      }
    },
    {
      "cell_type": "markdown",
      "source": [
        "ACME Insurance Inc. provides affordable health insurance to thousands of customers across the United States. They want to launch an attractive customer acquisition campaign. Your task is to study the data provided by the company, such as age, gender, BMI, children, smoking habits and region of residence of current customers and propose possible strategies."
      ],
      "metadata": {
        "id": "FaK99G7GkuNy"
      }
    },
    {
      "cell_type": "markdown",
      "source": [
        "## Introduction"
      ],
      "metadata": {
        "id": "6oxa7sMfkuNy"
      }
    },
    {
      "cell_type": "markdown",
      "source": [
        "Analysis of available data looking for possible trend lines to estimate the annual medical expenditure of new and existing customers, establishing the reduced annual premium price as the main attraction, while the company promotes healthy habits among its customers by reducing the risk of unpredictable extra expenses."
      ],
      "metadata": {
        "id": "aLCeQBEmkuNz"
      }
    },
    {
      "cell_type": "markdown",
      "source": [
        "## Method"
      ],
      "metadata": {
        "id": "I_w6Ppe3kuNz"
      }
    },
    {
      "cell_type": "markdown",
      "source": [
        "-Data analysis and visualisations: Python and R  \n",
        "-Model: Estimating annual medical expenditure using available information (Python, lazypredict, skalear)"
      ],
      "metadata": {
        "id": "NhuQjIuwkuNz"
      }
    },
    {
      "cell_type": "code",
      "source": [
        "%pip install pingouin"
      ],
      "metadata": {
        "execution": {
          "iopub.status.busy": "2024-04-17T14:58:35.607902Z",
          "iopub.execute_input": "2024-04-17T14:58:35.608462Z",
          "iopub.status.idle": "2024-04-17T14:59:57.334247Z",
          "shell.execute_reply.started": "2024-04-17T14:58:35.608396Z",
          "shell.execute_reply": "2024-04-17T14:59:57.332424Z"
        },
        "trusted": true,
        "id": "xra76HiwkuN0",
        "outputId": "74994698-7419-458d-d144-fdbfa0c4ca11",
        "colab": {
          "base_uri": "https://localhost:8080/"
        }
      },
      "execution_count": 1,
      "outputs": [
        {
          "output_type": "stream",
          "name": "stdout",
          "text": [
            "Collecting pingouin\n",
            "  Downloading pingouin-0.5.4-py2.py3-none-any.whl (198 kB)\n",
            "\u001b[2K     \u001b[90m━━━━━━━━━━━━━━━━━━━━━━━━━━━━━━━━━━━━━━━━\u001b[0m \u001b[32m198.9/198.9 kB\u001b[0m \u001b[31m2.4 MB/s\u001b[0m eta \u001b[36m0:00:00\u001b[0m\n",
            "\u001b[?25hRequirement already satisfied: numpy in /usr/local/lib/python3.10/dist-packages (from pingouin) (1.25.2)\n",
            "Requirement already satisfied: scipy in /usr/local/lib/python3.10/dist-packages (from pingouin) (1.11.4)\n",
            "Requirement already satisfied: pandas>=1.5 in /usr/local/lib/python3.10/dist-packages (from pingouin) (2.0.3)\n",
            "Requirement already satisfied: matplotlib in /usr/local/lib/python3.10/dist-packages (from pingouin) (3.7.1)\n",
            "Requirement already satisfied: seaborn in /usr/local/lib/python3.10/dist-packages (from pingouin) (0.13.1)\n",
            "Requirement already satisfied: statsmodels in /usr/local/lib/python3.10/dist-packages (from pingouin) (0.14.1)\n",
            "Requirement already satisfied: scikit-learn in /usr/local/lib/python3.10/dist-packages (from pingouin) (1.2.2)\n",
            "Collecting pandas-flavor (from pingouin)\n",
            "  Downloading pandas_flavor-0.6.0-py3-none-any.whl (7.2 kB)\n",
            "Requirement already satisfied: tabulate in /usr/local/lib/python3.10/dist-packages (from pingouin) (0.9.0)\n",
            "Requirement already satisfied: python-dateutil>=2.8.2 in /usr/local/lib/python3.10/dist-packages (from pandas>=1.5->pingouin) (2.8.2)\n",
            "Requirement already satisfied: pytz>=2020.1 in /usr/local/lib/python3.10/dist-packages (from pandas>=1.5->pingouin) (2023.4)\n",
            "Requirement already satisfied: tzdata>=2022.1 in /usr/local/lib/python3.10/dist-packages (from pandas>=1.5->pingouin) (2024.1)\n",
            "Requirement already satisfied: contourpy>=1.0.1 in /usr/local/lib/python3.10/dist-packages (from matplotlib->pingouin) (1.2.1)\n",
            "Requirement already satisfied: cycler>=0.10 in /usr/local/lib/python3.10/dist-packages (from matplotlib->pingouin) (0.12.1)\n",
            "Requirement already satisfied: fonttools>=4.22.0 in /usr/local/lib/python3.10/dist-packages (from matplotlib->pingouin) (4.51.0)\n",
            "Requirement already satisfied: kiwisolver>=1.0.1 in /usr/local/lib/python3.10/dist-packages (from matplotlib->pingouin) (1.4.5)\n",
            "Requirement already satisfied: packaging>=20.0 in /usr/local/lib/python3.10/dist-packages (from matplotlib->pingouin) (24.0)\n",
            "Requirement already satisfied: pillow>=6.2.0 in /usr/local/lib/python3.10/dist-packages (from matplotlib->pingouin) (9.4.0)\n",
            "Requirement already satisfied: pyparsing>=2.3.1 in /usr/local/lib/python3.10/dist-packages (from matplotlib->pingouin) (3.1.2)\n",
            "Requirement already satisfied: xarray in /usr/local/lib/python3.10/dist-packages (from pandas-flavor->pingouin) (2023.7.0)\n",
            "Requirement already satisfied: joblib>=1.1.1 in /usr/local/lib/python3.10/dist-packages (from scikit-learn->pingouin) (1.4.0)\n",
            "Requirement already satisfied: threadpoolctl>=2.0.0 in /usr/local/lib/python3.10/dist-packages (from scikit-learn->pingouin) (3.4.0)\n",
            "Requirement already satisfied: patsy>=0.5.4 in /usr/local/lib/python3.10/dist-packages (from statsmodels->pingouin) (0.5.6)\n",
            "Requirement already satisfied: six in /usr/local/lib/python3.10/dist-packages (from patsy>=0.5.4->statsmodels->pingouin) (1.16.0)\n",
            "Installing collected packages: pandas-flavor, pingouin\n",
            "Successfully installed pandas-flavor-0.6.0 pingouin-0.5.4\n"
          ]
        }
      ]
    },
    {
      "cell_type": "code",
      "source": [
        "%pip install lazypredict"
      ],
      "metadata": {
        "execution": {
          "iopub.status.busy": "2024-04-17T14:59:57.337951Z",
          "iopub.execute_input": "2024-04-17T14:59:57.339351Z",
          "iopub.status.idle": "2024-04-17T15:00:05.595969Z",
          "shell.execute_reply.started": "2024-04-17T14:59:57.339279Z",
          "shell.execute_reply": "2024-04-17T15:00:05.593981Z"
        },
        "trusted": true,
        "id": "gK74dzW0kuN1",
        "outputId": "5e8e773c-8e27-4247-fc7b-83a726aff257",
        "colab": {
          "base_uri": "https://localhost:8080/"
        }
      },
      "execution_count": 3,
      "outputs": [
        {
          "output_type": "stream",
          "name": "stdout",
          "text": [
            "Collecting lazypredict\n",
            "  Downloading lazypredict-0.2.12-py2.py3-none-any.whl (12 kB)\n",
            "Requirement already satisfied: click in /usr/local/lib/python3.10/dist-packages (from lazypredict) (8.1.7)\n",
            "Requirement already satisfied: scikit-learn in /usr/local/lib/python3.10/dist-packages (from lazypredict) (1.2.2)\n",
            "Requirement already satisfied: pandas in /usr/local/lib/python3.10/dist-packages (from lazypredict) (2.0.3)\n",
            "Requirement already satisfied: tqdm in /usr/local/lib/python3.10/dist-packages (from lazypredict) (4.66.2)\n",
            "Requirement already satisfied: joblib in /usr/local/lib/python3.10/dist-packages (from lazypredict) (1.4.0)\n",
            "Requirement already satisfied: lightgbm in /usr/local/lib/python3.10/dist-packages (from lazypredict) (4.1.0)\n",
            "Requirement already satisfied: xgboost in /usr/local/lib/python3.10/dist-packages (from lazypredict) (2.0.3)\n",
            "Requirement already satisfied: numpy in /usr/local/lib/python3.10/dist-packages (from lightgbm->lazypredict) (1.25.2)\n",
            "Requirement already satisfied: scipy in /usr/local/lib/python3.10/dist-packages (from lightgbm->lazypredict) (1.11.4)\n",
            "Requirement already satisfied: python-dateutil>=2.8.2 in /usr/local/lib/python3.10/dist-packages (from pandas->lazypredict) (2.8.2)\n",
            "Requirement already satisfied: pytz>=2020.1 in /usr/local/lib/python3.10/dist-packages (from pandas->lazypredict) (2023.4)\n",
            "Requirement already satisfied: tzdata>=2022.1 in /usr/local/lib/python3.10/dist-packages (from pandas->lazypredict) (2024.1)\n",
            "Requirement already satisfied: threadpoolctl>=2.0.0 in /usr/local/lib/python3.10/dist-packages (from scikit-learn->lazypredict) (3.4.0)\n",
            "Requirement already satisfied: six>=1.5 in /usr/local/lib/python3.10/dist-packages (from python-dateutil>=2.8.2->pandas->lazypredict) (1.16.0)\n",
            "Installing collected packages: lazypredict\n",
            "Successfully installed lazypredict-0.2.12\n"
          ]
        }
      ]
    },
    {
      "cell_type": "code",
      "source": [
        "# tratamiento de los datos\n",
        "# ============================================\n",
        "import pandas as pd\n",
        "import numpy as np\n",
        "from scipy.stats import skew\n",
        "import scipy.stats as st\n",
        "import sidetable\n",
        "from scipy.stats import chi2_contingency\n",
        "from scipy import stats\n",
        "from scipy.stats import pearsonr\n",
        "import statsmodels.api as sm\n",
        "import pingouin as pg\n",
        "from scipy.stats import kurtosistest\n",
        "import statsmodels.api as sm\n",
        "from lazypredict.Supervised import LazyRegressor\n",
        "\n",
        "# librerías para la visualización de los datos\n",
        "# ============================================\n",
        "import matplotlib.pyplot as plt\n",
        "import seaborn as sns\n",
        "\n",
        "# Establecer tamaño fijo de gráficas\n",
        "# ==================================\n",
        "plt.rcParams[\"figure.figsize\"] = (10,8)\n",
        "\n",
        "# Configuración warnings\n",
        "# ======================\n",
        "import warnings\n",
        "warnings.filterwarnings('ignore')"
      ],
      "metadata": {
        "execution": {
          "iopub.status.busy": "2024-04-17T15:00:05.598325Z",
          "iopub.execute_input": "2024-04-17T15:00:05.59953Z",
          "iopub.status.idle": "2024-04-17T15:00:06.203644Z",
          "shell.execute_reply.started": "2024-04-17T15:00:05.599468Z",
          "shell.execute_reply": "2024-04-17T15:00:06.192311Z"
        },
        "trusted": true,
        "id": "c6xqEH0qkuN1",
        "outputId": "d9a44234-3c0a-495b-f41c-e040974f7444",
        "colab": {
          "base_uri": "https://localhost:8080/",
          "height": 383
        }
      },
      "execution_count": 4,
      "outputs": [
        {
          "output_type": "error",
          "ename": "ModuleNotFoundError",
          "evalue": "No module named 'sidetable'",
          "traceback": [
            "\u001b[0;31m---------------------------------------------------------------------------\u001b[0m",
            "\u001b[0;31mModuleNotFoundError\u001b[0m                       Traceback (most recent call last)",
            "\u001b[0;32m<ipython-input-4-22e0b3d5dd74>\u001b[0m in \u001b[0;36m<cell line: 7>\u001b[0;34m()\u001b[0m\n\u001b[1;32m      5\u001b[0m \u001b[0;32mfrom\u001b[0m \u001b[0mscipy\u001b[0m\u001b[0;34m.\u001b[0m\u001b[0mstats\u001b[0m \u001b[0;32mimport\u001b[0m \u001b[0mskew\u001b[0m\u001b[0;34m\u001b[0m\u001b[0;34m\u001b[0m\u001b[0m\n\u001b[1;32m      6\u001b[0m \u001b[0;32mimport\u001b[0m \u001b[0mscipy\u001b[0m\u001b[0;34m.\u001b[0m\u001b[0mstats\u001b[0m \u001b[0;32mas\u001b[0m \u001b[0mst\u001b[0m\u001b[0;34m\u001b[0m\u001b[0;34m\u001b[0m\u001b[0m\n\u001b[0;32m----> 7\u001b[0;31m \u001b[0;32mimport\u001b[0m \u001b[0msidetable\u001b[0m\u001b[0;34m\u001b[0m\u001b[0;34m\u001b[0m\u001b[0m\n\u001b[0m\u001b[1;32m      8\u001b[0m \u001b[0;32mfrom\u001b[0m \u001b[0mscipy\u001b[0m\u001b[0;34m.\u001b[0m\u001b[0mstats\u001b[0m \u001b[0;32mimport\u001b[0m \u001b[0mchi2_contingency\u001b[0m\u001b[0;34m\u001b[0m\u001b[0;34m\u001b[0m\u001b[0m\n\u001b[1;32m      9\u001b[0m \u001b[0;32mfrom\u001b[0m \u001b[0mscipy\u001b[0m \u001b[0;32mimport\u001b[0m \u001b[0mstats\u001b[0m\u001b[0;34m\u001b[0m\u001b[0;34m\u001b[0m\u001b[0m\n",
            "\u001b[0;31mModuleNotFoundError\u001b[0m: No module named 'sidetable'",
            "",
            "\u001b[0;31m---------------------------------------------------------------------------\u001b[0;32m\nNOTE: If your import is failing due to a missing package, you can\nmanually install dependencies using either !pip or !apt.\n\nTo view examples of installing some common dependencies, click the\n\"Open Examples\" button below.\n\u001b[0;31m---------------------------------------------------------------------------\u001b[0m\n"
          ],
          "errorDetails": {
            "actions": [
              {
                "action": "open_url",
                "actionText": "Open Examples",
                "url": "/notebooks/snippets/importing_libraries.ipynb"
              }
            ]
          }
        }
      ]
    },
    {
      "cell_type": "code",
      "source": [
        "# Objectives\n",
        "#Description of data, identification of variables to be taken into account for the calculation of health insurance premiums.\n",
        "\n",
        "#Predict amount of charges"
      ],
      "metadata": {
        "execution": {
          "iopub.status.busy": "2024-04-17T15:00:06.205506Z",
          "iopub.status.idle": "2024-04-17T15:00:06.206359Z",
          "shell.execute_reply.started": "2024-04-17T15:00:06.205961Z",
          "shell.execute_reply": "2024-04-17T15:00:06.206004Z"
        },
        "trusted": true,
        "id": "9XpxN4F9kuN2"
      },
      "execution_count": null,
      "outputs": []
    },
    {
      "cell_type": "code",
      "source": [
        "df = pd.read_csv(\"/kaggle/input/medical-insurance-payout/expenses.csv\", index_col = 0).reset_index()\n",
        "df.head(2)"
      ],
      "metadata": {
        "execution": {
          "iopub.status.busy": "2024-04-17T15:00:06.208966Z",
          "iopub.status.idle": "2024-04-17T15:00:06.210137Z",
          "shell.execute_reply.started": "2024-04-17T15:00:06.209655Z",
          "shell.execute_reply": "2024-04-17T15:00:06.209692Z"
        },
        "trusted": true,
        "id": "uJRfJDMokuN2"
      },
      "execution_count": null,
      "outputs": []
    },
    {
      "cell_type": "code",
      "source": [
        "## Understand the variables we have and what our dataframe looks like."
      ],
      "metadata": {
        "execution": {
          "iopub.status.busy": "2024-04-17T15:00:06.21139Z",
          "iopub.status.idle": "2024-04-17T15:00:06.211943Z",
          "shell.execute_reply.started": "2024-04-17T15:00:06.21168Z",
          "shell.execute_reply": "2024-04-17T15:00:06.211706Z"
        },
        "trusted": true,
        "id": "szqlvE9qkuN2"
      },
      "execution_count": null,
      "outputs": []
    },
    {
      "cell_type": "code",
      "source": [
        "# number of rows and columns in the dataframe\n",
        "\n",
        "df.shape"
      ],
      "metadata": {
        "execution": {
          "iopub.status.busy": "2024-04-17T15:00:06.214344Z",
          "iopub.status.idle": "2024-04-17T15:00:06.214856Z",
          "shell.execute_reply.started": "2024-04-17T15:00:06.214614Z",
          "shell.execute_reply": "2024-04-17T15:00:06.214641Z"
        },
        "trusted": true,
        "id": "BuoQU2r3kuN2"
      },
      "execution_count": null,
      "outputs": []
    },
    {
      "cell_type": "code",
      "source": [
        "# general data frame information\n",
        "\n",
        "df.info()"
      ],
      "metadata": {
        "execution": {
          "iopub.status.busy": "2024-04-17T15:00:06.217809Z",
          "iopub.status.idle": "2024-04-17T15:00:06.218742Z",
          "shell.execute_reply.started": "2024-04-17T15:00:06.218461Z",
          "shell.execute_reply": "2024-04-17T15:00:06.218493Z"
        },
        "trusted": true,
        "id": "vdY83z68kuN3"
      },
      "execution_count": null,
      "outputs": []
    },
    {
      "cell_type": "code",
      "source": [
        "df.isnull().sum()\n"
      ],
      "metadata": {
        "execution": {
          "iopub.status.busy": "2024-04-17T15:00:06.220591Z",
          "iopub.status.idle": "2024-04-17T15:00:06.221132Z",
          "shell.execute_reply.started": "2024-04-17T15:00:06.22085Z",
          "shell.execute_reply": "2024-04-17T15:00:06.220877Z"
        },
        "trusted": true,
        "id": "gQxOtrLMkuN3"
      },
      "execution_count": null,
      "outputs": []
    },
    {
      "cell_type": "code",
      "source": [
        "# duplicates\n",
        "\n",
        "df.duplicated().sum()"
      ],
      "metadata": {
        "execution": {
          "iopub.status.busy": "2024-04-17T15:00:06.223675Z",
          "iopub.status.idle": "2024-04-17T15:00:06.224207Z",
          "shell.execute_reply.started": "2024-04-17T15:00:06.223946Z",
          "shell.execute_reply": "2024-04-17T15:00:06.223971Z"
        },
        "trusted": true,
        "id": "n0Phg0hgkuN3"
      },
      "execution_count": null,
      "outputs": []
    },
    {
      "cell_type": "code",
      "source": [
        "df[df.duplicated()== True]"
      ],
      "metadata": {
        "execution": {
          "iopub.status.busy": "2024-04-17T15:00:06.225843Z",
          "iopub.status.idle": "2024-04-17T15:00:06.226382Z",
          "shell.execute_reply.started": "2024-04-17T15:00:06.226122Z",
          "shell.execute_reply": "2024-04-17T15:00:06.22615Z"
        },
        "trusted": true,
        "id": "dseghF-rkuN3"
      },
      "execution_count": null,
      "outputs": []
    },
    {
      "cell_type": "code",
      "source": [
        "df.drop_duplicates(inplace=True)"
      ],
      "metadata": {
        "execution": {
          "iopub.status.busy": "2024-04-17T15:00:06.229046Z",
          "iopub.status.idle": "2024-04-17T15:00:06.229758Z",
          "shell.execute_reply.started": "2024-04-17T15:00:06.229381Z",
          "shell.execute_reply": "2024-04-17T15:00:06.22942Z"
        },
        "trusted": true,
        "id": "rzexJLVSkuN3"
      },
      "execution_count": null,
      "outputs": []
    },
    {
      "cell_type": "code",
      "source": [
        "df.to_csv('insurance_ok.csv')"
      ],
      "metadata": {
        "execution": {
          "iopub.status.busy": "2024-04-17T15:00:06.231342Z",
          "iopub.status.idle": "2024-04-17T15:00:06.232052Z",
          "shell.execute_reply.started": "2024-04-17T15:00:06.231686Z",
          "shell.execute_reply": "2024-04-17T15:00:06.231725Z"
        },
        "trusted": true,
        "id": "1G595sKAkuN3"
      },
      "execution_count": null,
      "outputs": []
    },
    {
      "cell_type": "code",
      "source": [
        "### Statistics"
      ],
      "metadata": {
        "execution": {
          "iopub.status.busy": "2024-04-17T15:00:06.234256Z",
          "iopub.status.idle": "2024-04-17T15:00:06.235161Z",
          "shell.execute_reply.started": "2024-04-17T15:00:06.234754Z",
          "shell.execute_reply": "2024-04-17T15:00:06.234796Z"
        },
        "trusted": true,
        "id": "-XxX0Zj5kuN3"
      },
      "execution_count": null,
      "outputs": []
    },
    {
      "cell_type": "code",
      "source": [
        "# leading statistics of the numeric columns.\n",
        "\n",
        "df.describe(include='all')"
      ],
      "metadata": {
        "execution": {
          "iopub.status.busy": "2024-04-17T15:00:06.239819Z",
          "iopub.status.idle": "2024-04-17T15:00:06.240422Z",
          "shell.execute_reply.started": "2024-04-17T15:00:06.240153Z",
          "shell.execute_reply": "2024-04-17T15:00:06.240192Z"
        },
        "trusted": true,
        "id": "oiX12yBGkuN4"
      },
      "execution_count": null,
      "outputs": []
    },
    {
      "cell_type": "markdown",
      "source": [
        "Data info:\n",
        "- Smoking habits, majority non-smokers (274 smokers)\n",
        "- BMI mean 30, overweight (more than 75% over BMI 25)"
      ],
      "metadata": {
        "id": "7Oczy-8YkuN4"
      }
    },
    {
      "cell_type": "code",
      "source": [
        "# Outliers"
      ],
      "metadata": {
        "execution": {
          "iopub.status.busy": "2024-04-17T15:00:06.242128Z",
          "iopub.status.idle": "2024-04-17T15:00:06.242692Z",
          "shell.execute_reply.started": "2024-04-17T15:00:06.242434Z",
          "shell.execute_reply": "2024-04-17T15:00:06.242464Z"
        },
        "trusted": true,
        "id": "QJYkwMOMkuN4"
      },
      "execution_count": null,
      "outputs": []
    },
    {
      "cell_type": "code",
      "source": [
        "numericas = df.select_dtypes(include=np.number)\n",
        "numericas"
      ],
      "metadata": {
        "execution": {
          "iopub.status.busy": "2024-04-17T15:00:06.244556Z",
          "iopub.status.idle": "2024-04-17T15:00:06.245118Z",
          "shell.execute_reply.started": "2024-04-17T15:00:06.244838Z",
          "shell.execute_reply": "2024-04-17T15:00:06.244866Z"
        },
        "trusted": true,
        "id": "P-5FIdZtkuN4"
      },
      "execution_count": null,
      "outputs": []
    },
    {
      "cell_type": "code",
      "source": [
        "fig, axes = plt.subplots(2,2, figsize=(20,4))\n",
        "axes = axes.flat\n",
        "for indice, columna in enumerate(numericas.columns):\n",
        "    sns.boxplot(x = numericas[columna], data = df, ax=axes[indice], color = \"turquoise\")\n",
        "plt.tight_layout()\n",
        "plt.show();"
      ],
      "metadata": {
        "execution": {
          "iopub.status.busy": "2024-04-17T15:00:06.247199Z",
          "iopub.status.idle": "2024-04-17T15:00:06.248388Z",
          "shell.execute_reply.started": "2024-04-17T15:00:06.248068Z",
          "shell.execute_reply": "2024-04-17T15:00:06.248102Z"
        },
        "trusted": true,
        "id": "7BLTzciwkuN4"
      },
      "execution_count": null,
      "outputs": []
    },
    {
      "cell_type": "code",
      "source": [
        "# I'm going to look at the distribution of variable charges\n",
        "sns.set(style=\"ticks\")\n",
        "sns.set_style(\"darkgrid\")\n",
        "sns.distplot(\n",
        "    df[\"charges\"],\n",
        "    color = \"blue\",\n",
        "    kde_kws = {\"shade\": True, \"linewidth\": 1});\n"
      ],
      "metadata": {
        "execution": {
          "iopub.status.busy": "2024-04-17T15:00:06.250147Z",
          "iopub.status.idle": "2024-04-17T15:00:06.250968Z",
          "shell.execute_reply.started": "2024-04-17T15:00:06.250626Z",
          "shell.execute_reply": "2024-04-17T15:00:06.250662Z"
        },
        "trusted": true,
        "id": "G0mYLn6wkuN4"
      },
      "execution_count": null,
      "outputs": []
    },
    {
      "cell_type": "code",
      "source": [
        "### Not normal"
      ],
      "metadata": {
        "execution": {
          "iopub.status.busy": "2024-04-17T15:00:06.255862Z",
          "iopub.status.idle": "2024-04-17T15:00:06.256758Z",
          "shell.execute_reply.started": "2024-04-17T15:00:06.256446Z",
          "shell.execute_reply": "2024-04-17T15:00:06.256485Z"
        },
        "trusted": true,
        "id": "cNFksao7kuN4"
      },
      "execution_count": null,
      "outputs": []
    },
    {
      "cell_type": "code",
      "source": [
        "## We analyse the numerical variables of the dataset"
      ],
      "metadata": {
        "execution": {
          "iopub.status.busy": "2024-04-17T15:00:06.258743Z",
          "iopub.status.idle": "2024-04-17T15:00:06.259311Z",
          "shell.execute_reply.started": "2024-04-17T15:00:06.259036Z",
          "shell.execute_reply": "2024-04-17T15:00:06.259065Z"
        },
        "trusted": true,
        "id": "KJn9z6dXkuN4"
      },
      "execution_count": null,
      "outputs": []
    },
    {
      "cell_type": "code",
      "source": [
        "### Distributions"
      ],
      "metadata": {
        "execution": {
          "iopub.status.busy": "2024-04-17T15:00:06.261322Z",
          "iopub.status.idle": "2024-04-17T15:00:06.261964Z",
          "shell.execute_reply.started": "2024-04-17T15:00:06.261603Z",
          "shell.execute_reply": "2024-04-17T15:00:06.261631Z"
        },
        "trusted": true,
        "id": "6sjlj_klkuN5"
      },
      "execution_count": null,
      "outputs": []
    },
    {
      "cell_type": "code",
      "source": [
        "fig, axes = plt.subplots(nrows = 2, ncols = 2, figsize = (30, 10))\n",
        "axes = axes.flat#iterator\n",
        "for i, colum in enumerate(numericas.columns):\n",
        "    sns.histplot(\n",
        "        data = numericas[colum],\n",
        "        kde = True,\n",
        "        color = \"purple\",\n",
        "        line_kws = {\"linewidth\": 2},\n",
        "        alpha = 0.5,\n",
        "        ax = axes[i])\n",
        "    axes[i].set_title(colum, fontsize = 20, fontweight = \"bold\")\n",
        "    axes[i].tick_params(labelsize = 20)\n",
        "    axes[i].set_xlabel(\"\")\n",
        "fig.tight_layout();"
      ],
      "metadata": {
        "execution": {
          "iopub.status.busy": "2024-04-17T15:00:06.263752Z",
          "iopub.status.idle": "2024-04-17T15:00:06.264347Z",
          "shell.execute_reply.started": "2024-04-17T15:00:06.264049Z",
          "shell.execute_reply": "2024-04-17T15:00:06.264097Z"
        },
        "trusted": true,
        "id": "JAN0HD9dkuN5"
      },
      "execution_count": null,
      "outputs": []
    },
    {
      "cell_type": "markdown",
      "source": [
        "### Relationship to the response variable"
      ],
      "metadata": {
        "id": "qz6Y6iJUkuN5"
      }
    },
    {
      "cell_type": "code",
      "source": [
        "fig, axes = plt.subplots(nrows = 1, ncols = 3, figsize = (30, 10))\n",
        "axes = axes.flat\n",
        "lista_colores = [\"cyan\", \"magenta\", \"orange\"]\n",
        "\n",
        "columnas_numeric = df.select_dtypes(include = np.number).columns\n",
        "columnas_numeric = columnas_numeric.drop(\"charges\")\n",
        "\n",
        "for i, colum in enumerate(columnas_numeric):\n",
        "    sns.regplot(\n",
        "        x = df[colum],\n",
        "        y = df[\"charges\"],\n",
        "        color = lista_colores[i],\n",
        "        marker = \".\",\n",
        "        scatter_kws = {\"alpha\": 0.4},\n",
        "        line_kws = {\"color\": \"black\", \"alpha\": 0.7 },\n",
        "        ax = axes[i])\n",
        "\n",
        "    axes[i].set_title(f\"Charges vs {colum}\", fontsize = 20, fontweight = \"bold\")\n",
        "    axes[i].tick_params(labelsize = 20)\n",
        "    axes[i].set_xlabel(\"\")\n",
        "    axes[i].set_ylabel(\"\")\n",
        "\n",
        "fig.tight_layout();\n"
      ],
      "metadata": {
        "execution": {
          "iopub.status.busy": "2024-04-17T15:00:06.266114Z",
          "iopub.status.idle": "2024-04-17T15:00:06.266657Z",
          "shell.execute_reply.started": "2024-04-17T15:00:06.266384Z",
          "shell.execute_reply": "2024-04-17T15:00:06.266411Z"
        },
        "trusted": true,
        "id": "fE9iH1VDkuN5"
      },
      "execution_count": null,
      "outputs": []
    },
    {
      "cell_type": "code",
      "source": [
        "fig, axes = plt.subplots(1, 3, figsize=(20,7))\n",
        "categoricas=df.select_dtypes(include='object')\n",
        "for i in range(len(categoricas.columns)):\n",
        "    sns.scatterplot(x='age', y='charges', data = df,\n",
        "                    s = 25,\n",
        "                    hue = categoricas.columns[i],\n",
        "                    ax=axes[i])\n",
        "plt.show();"
      ],
      "metadata": {
        "execution": {
          "iopub.status.busy": "2024-04-17T15:00:06.269133Z",
          "iopub.status.idle": "2024-04-17T15:00:06.269724Z",
          "shell.execute_reply.started": "2024-04-17T15:00:06.269442Z",
          "shell.execute_reply": "2024-04-17T15:00:06.26948Z"
        },
        "trusted": true,
        "id": "Yc0eIcsokuN5"
      },
      "execution_count": null,
      "outputs": []
    },
    {
      "cell_type": "markdown",
      "source": [
        "Here we see that in age, there are about three clear trend lines in the distribution of our data.  \n",
        "**-------------------------------------All 3 increase with age and tobacco-------------------------------------**"
      ],
      "metadata": {
        "id": "vGziu_AkkuN6"
      }
    },
    {
      "cell_type": "code",
      "source": [
        "fig, axes = plt.subplots(1, 3, figsize=(20,7))\n",
        "\n",
        "for i in range(len(categoricas.columns)):\n",
        "    sns.scatterplot(x='bmi', y='charges', data = df,\n",
        "                    s = 25,\n",
        "                    hue = categoricas.columns[i],\n",
        "                    ax=axes[i])\n",
        "plt.show();"
      ],
      "metadata": {
        "execution": {
          "iopub.status.busy": "2024-04-17T15:00:06.27174Z",
          "iopub.status.idle": "2024-04-17T15:00:06.27233Z",
          "shell.execute_reply.started": "2024-04-17T15:00:06.272063Z",
          "shell.execute_reply": "2024-04-17T15:00:06.272092Z"
        },
        "trusted": true,
        "id": "nl3RRpjekuN6"
      },
      "execution_count": null,
      "outputs": []
    },
    {
      "cell_type": "markdown",
      "source": [
        "**-------------------------------We see that there is a clear increase  in charges with tobacco--------------------------**"
      ],
      "metadata": {
        "id": "L_Ji0MxlkuN6"
      }
    },
    {
      "cell_type": "code",
      "source": [
        "mask = np.triu(np.ones_like(df.corr(), dtype = np.bool))\n",
        "sns.heatmap(df.corr(method='spearman'),\n",
        "           cmap = \"icefire\",\n",
        "            mask = mask,\n",
        "           annot = True);"
      ],
      "metadata": {
        "execution": {
          "iopub.status.busy": "2024-04-17T15:00:06.274123Z",
          "iopub.status.idle": "2024-04-17T15:00:06.274792Z",
          "shell.execute_reply.started": "2024-04-17T15:00:06.274381Z",
          "shell.execute_reply": "2024-04-17T15:00:06.274408Z"
        },
        "trusted": true,
        "id": "IIQ3DeyHkuN6"
      },
      "execution_count": null,
      "outputs": []
    },
    {
      "cell_type": "markdown",
      "source": [
        "## Categorical variables"
      ],
      "metadata": {
        "id": "alkrFA96kuN_"
      }
    },
    {
      "cell_type": "markdown",
      "source": [
        "### I create some graphs to go deeper into the data"
      ],
      "metadata": {
        "id": "9qcxc-bikuN_"
      }
    },
    {
      "cell_type": "code",
      "source": [
        "fig, axes = plt.subplots(nrows=3, ncols=1, figsize=(20, 15))\n",
        "axes = axes.flat\n",
        "lista_colores = [ \"magenta\", \"orange\",\"blue\", \"green\"]\n",
        "columnas = df.select_dtypes(include = 'object')\n",
        "columnas = columnas.columns\n",
        "for i, colum in enumerate(columnas):\n",
        "    sns.violinplot(\n",
        "        data = df,\n",
        "        x = colum,\n",
        "        y = 'charges',\n",
        "        color = lista_colores[i],\n",
        "        line_kws = {\"color\": \"black\", \"alpha\": 0.7 },\n",
        "        ax = axes[i])\n",
        "    axes[i].set_title(colum, fontsize = 15, fontweight = \"bold\")\n",
        "    axes[i].tick_params(labelsize = 20)\n",
        "    axes[i].set_xlabel(\"\")\n",
        "\n",
        "fig.tight_layout();"
      ],
      "metadata": {
        "execution": {
          "iopub.status.busy": "2024-04-17T15:00:06.276974Z",
          "iopub.status.idle": "2024-04-17T15:00:06.27769Z",
          "shell.execute_reply.started": "2024-04-17T15:00:06.277321Z",
          "shell.execute_reply": "2024-04-17T15:00:06.277358Z"
        },
        "trusted": true,
        "id": "j33NGqJvkuN_"
      },
      "execution_count": null,
      "outputs": []
    },
    {
      "cell_type": "code",
      "source": [
        "sns.barplot(x='region', y='charges', data=df, palette='Spectral')\n",
        "plt.ylim(0,40000);"
      ],
      "metadata": {
        "execution": {
          "iopub.status.busy": "2024-04-17T15:00:06.27966Z",
          "iopub.status.idle": "2024-04-17T15:00:06.280371Z",
          "shell.execute_reply.started": "2024-04-17T15:00:06.280005Z",
          "shell.execute_reply": "2024-04-17T15:00:06.280043Z"
        },
        "trusted": true,
        "id": "Y03CxledkuOA"
      },
      "execution_count": null,
      "outputs": []
    },
    {
      "cell_type": "code",
      "source": [
        "sns.barplot(x='children', y='charges', data=df, palette='Set2')\n",
        "plt.ylim(0,40000);"
      ],
      "metadata": {
        "execution": {
          "iopub.status.busy": "2024-04-17T15:00:06.282467Z",
          "iopub.status.idle": "2024-04-17T15:00:06.283185Z",
          "shell.execute_reply.started": "2024-04-17T15:00:06.282814Z",
          "shell.execute_reply": "2024-04-17T15:00:06.282851Z"
        },
        "trusted": true,
        "id": "JQViXAQUkuOA"
      },
      "execution_count": null,
      "outputs": []
    },
    {
      "cell_type": "code",
      "source": [
        "sns.barplot(x='smoker', y='charges', data=df, palette='Spectral')\n",
        "plt.ylim(0,40000);"
      ],
      "metadata": {
        "execution": {
          "iopub.status.busy": "2024-04-17T15:00:06.285004Z",
          "iopub.status.idle": "2024-04-17T15:00:06.285668Z",
          "shell.execute_reply.started": "2024-04-17T15:00:06.285317Z",
          "shell.execute_reply": "2024-04-17T15:00:06.285353Z"
        },
        "trusted": true,
        "id": "GQvC_VZdkuOA"
      },
      "execution_count": null,
      "outputs": []
    },
    {
      "cell_type": "code",
      "source": [
        "sns.barplot(x='sex', y='charges' ,data=df, palette='Spectral')\n",
        "plt.ylim(0,40000);"
      ],
      "metadata": {
        "execution": {
          "iopub.status.busy": "2024-04-17T15:00:06.288331Z",
          "iopub.status.idle": "2024-04-17T15:00:06.288856Z",
          "shell.execute_reply.started": "2024-04-17T15:00:06.288612Z",
          "shell.execute_reply": "2024-04-17T15:00:06.28864Z"
        },
        "trusted": true,
        "id": "_MZqTAEAkuOA"
      },
      "execution_count": null,
      "outputs": []
    },
    {
      "cell_type": "markdown",
      "source": [
        "modelo"
      ],
      "metadata": {
        "id": "TN41uEYwkuOA"
      }
    },
    {
      "cell_type": "code",
      "source": [
        "df['sex'] = df['sex'].map({'female':0,'male':1})\n",
        "df['smoker'] = df['smoker'].map({'no':0,'yes':1})\n",
        "df['region'] = df['region'].map({'northeast':1,'northwest':2,'southeast':3,'southwest':4})\n",
        "df.head()"
      ],
      "metadata": {
        "execution": {
          "iopub.status.busy": "2024-04-17T15:00:06.291Z",
          "iopub.status.idle": "2024-04-17T15:00:06.291517Z",
          "shell.execute_reply.started": "2024-04-17T15:00:06.291276Z",
          "shell.execute_reply": "2024-04-17T15:00:06.291303Z"
        },
        "trusted": true,
        "id": "JIYtH9f2kuOA"
      },
      "execution_count": null,
      "outputs": []
    },
    {
      "cell_type": "code",
      "source": [
        "df.info()"
      ],
      "metadata": {
        "execution": {
          "iopub.status.busy": "2024-04-17T15:00:06.292739Z",
          "iopub.status.idle": "2024-04-17T15:00:06.293253Z",
          "shell.execute_reply.started": "2024-04-17T15:00:06.293002Z",
          "shell.execute_reply": "2024-04-17T15:00:06.293028Z"
        },
        "trusted": true,
        "id": "BU1RPuD6kuOA"
      },
      "execution_count": null,
      "outputs": []
    },
    {
      "cell_type": "code",
      "source": [
        "X = df.drop('charges',axis=1)\n",
        "y = df['charges']"
      ],
      "metadata": {
        "execution": {
          "iopub.status.busy": "2024-04-17T15:00:06.296136Z",
          "iopub.status.idle": "2024-04-17T15:00:06.296784Z",
          "shell.execute_reply.started": "2024-04-17T15:00:06.296491Z",
          "shell.execute_reply": "2024-04-17T15:00:06.296519Z"
        },
        "trusted": true,
        "id": "0g42OBydkuOA"
      },
      "execution_count": null,
      "outputs": []
    },
    {
      "cell_type": "code",
      "source": [
        "from sklearn.model_selection import train_test_split\n",
        "x_train, x_test, y_train, y_test = train_test_split( X, y, test_size=0.2, random_state=42)"
      ],
      "metadata": {
        "execution": {
          "iopub.status.busy": "2024-04-17T15:00:06.298285Z",
          "iopub.status.idle": "2024-04-17T15:00:06.298766Z",
          "shell.execute_reply.started": "2024-04-17T15:00:06.298537Z",
          "shell.execute_reply": "2024-04-17T15:00:06.298562Z"
        },
        "trusted": true,
        "id": "Eg2tWvtUkuOB"
      },
      "execution_count": null,
      "outputs": []
    },
    {
      "cell_type": "code",
      "source": [
        "from lazypredict.Supervised import LazyRegressor"
      ],
      "metadata": {
        "execution": {
          "iopub.status.busy": "2024-04-17T15:00:06.300702Z",
          "iopub.status.idle": "2024-04-17T15:00:06.301321Z",
          "shell.execute_reply.started": "2024-04-17T15:00:06.301022Z",
          "shell.execute_reply": "2024-04-17T15:00:06.301049Z"
        },
        "trusted": true,
        "id": "DNHirlzhkuOB"
      },
      "execution_count": null,
      "outputs": []
    },
    {
      "cell_type": "code",
      "source": [
        "clf = LazyRegressor(verbose=0)\n",
        "models,predictions = clf.fit(x_train, x_test, y_train, y_test)\n",
        "models"
      ],
      "metadata": {
        "execution": {
          "iopub.status.busy": "2024-04-17T15:00:06.303075Z",
          "iopub.status.idle": "2024-04-17T15:00:06.303607Z",
          "shell.execute_reply.started": "2024-04-17T15:00:06.303361Z",
          "shell.execute_reply": "2024-04-17T15:00:06.30339Z"
        },
        "trusted": true,
        "id": "5ZndD74nkuOB"
      },
      "execution_count": null,
      "outputs": []
    },
    {
      "cell_type": "code",
      "source": [
        "from sklearn.linear_model import LinearRegression\n",
        "from sklearn.metrics import r2_score, mean_squared_error, mean_absolute_error\n",
        "from sklearn.pipeline import make_pipeline\n",
        "from sklearn.ensemble import GradientBoostingRegressor\n",
        "from sklearn.decomposition import PCA"
      ],
      "metadata": {
        "execution": {
          "iopub.status.busy": "2024-04-17T15:00:06.305066Z",
          "iopub.status.idle": "2024-04-17T15:00:06.305549Z",
          "shell.execute_reply.started": "2024-04-17T15:00:06.30532Z",
          "shell.execute_reply": "2024-04-17T15:00:06.305345Z"
        },
        "trusted": true,
        "id": "0r6ThzkDkuOB"
      },
      "execution_count": null,
      "outputs": []
    },
    {
      "cell_type": "code",
      "source": [
        "# iniciamos la regresión lineal. n_jobs hace referencia al número de nucleos que usaremos de nuestro ordenador. Al indicar -1 significa\n",
        "#  que los usaremos todos.\n",
        "\n",
        "lr = LinearRegression(n_jobs=-1)"
      ],
      "metadata": {
        "execution": {
          "iopub.status.busy": "2024-04-17T15:00:06.307023Z",
          "iopub.status.idle": "2024-04-17T15:00:06.307512Z",
          "shell.execute_reply.started": "2024-04-17T15:00:06.30728Z",
          "shell.execute_reply": "2024-04-17T15:00:06.307305Z"
        },
        "trusted": true,
        "id": "bprDSKHCkuOB"
      },
      "execution_count": null,
      "outputs": []
    },
    {
      "cell_type": "code",
      "source": [
        "# fiteamos el modelo, lo que significa que le pasamos los datos de entrenamiento para que aprenda el algoritmo. Fijaros que para que aprenda,\n",
        "#  les paso solo los datos de entrenamiento\n",
        "\n",
        "lr.fit(x_train, y_train)"
      ],
      "metadata": {
        "execution": {
          "iopub.status.busy": "2024-04-17T15:00:06.309394Z",
          "iopub.status.idle": "2024-04-17T15:00:06.309897Z",
          "shell.execute_reply.started": "2024-04-17T15:00:06.309649Z",
          "shell.execute_reply": "2024-04-17T15:00:06.309683Z"
        },
        "trusted": true,
        "id": "eK-uFpQVkuOB"
      },
      "execution_count": null,
      "outputs": []
    },
    {
      "cell_type": "code",
      "source": [
        "# es el momento de hacer las predicciones, para eso usarmos el método predict() de sklearn\n",
        "\n",
        "y_predict_train = lr.predict(x_train) # hacemos las predicciones para las casas que tenemos en el los datos de entrenamiento\n",
        "y_predict_test = lr.predict(x_test) # hacemos las predicciones para las casas que tenemos en los datos de test"
      ],
      "metadata": {
        "execution": {
          "iopub.status.busy": "2024-04-17T15:00:06.311489Z",
          "iopub.status.idle": "2024-04-17T15:00:06.312042Z",
          "shell.execute_reply.started": "2024-04-17T15:00:06.311774Z",
          "shell.execute_reply": "2024-04-17T15:00:06.311801Z"
        },
        "trusted": true,
        "id": "nocL6fsmkuOB"
      },
      "execution_count": null,
      "outputs": []
    },
    {
      "cell_type": "code",
      "source": [
        "train_df = pd.DataFrame({'Real': y_train, 'Predicted': y_predict_train, 'Set': ['Train']*len(y_train)})\n",
        "test_df  = pd.DataFrame({'Real': y_test,  'Predicted': y_predict_test,  'Set': ['Test']*len(y_test)})\n",
        "resultados = pd.concat([train_df,test_df], axis = 0)\n",
        "resultados.head()"
      ],
      "metadata": {
        "execution": {
          "iopub.status.busy": "2024-04-17T15:00:06.313446Z",
          "iopub.status.idle": "2024-04-17T15:00:06.314356Z",
          "shell.execute_reply.started": "2024-04-17T15:00:06.314065Z",
          "shell.execute_reply": "2024-04-17T15:00:06.314099Z"
        },
        "trusted": true,
        "id": "25bpSw88kuOC"
      },
      "execution_count": null,
      "outputs": []
    },
    {
      "cell_type": "code",
      "source": [
        "resultados['residuos'] = resultados['Real'] - resultados['Predicted']\n",
        "resultados.head()"
      ],
      "metadata": {
        "execution": {
          "iopub.status.busy": "2024-04-17T15:00:06.322965Z",
          "iopub.status.idle": "2024-04-17T15:00:06.323575Z",
          "shell.execute_reply.started": "2024-04-17T15:00:06.32329Z",
          "shell.execute_reply": "2024-04-17T15:00:06.323321Z"
        },
        "trusted": true,
        "id": "waEXQjg-kuOC"
      },
      "execution_count": null,
      "outputs": []
    },
    {
      "cell_type": "code",
      "source": [
        "test_df  = pd.DataFrame({'Real': y_test,  'Predicted': y_predict_test,  'Set': ['Test']*len(y_test),'MAE': mean_absolute_error(y_test, y_predict_test),'MSE': mean_squared_error(y_test, y_predict_test),'RMSE': np.sqrt(mean_squared_error(y_test, y_predict_test)),'R2':  r2_score(y_test, y_predict_test),\"modelo\": \"LinearRegression\"})"
      ],
      "metadata": {
        "execution": {
          "iopub.status.busy": "2024-04-17T15:00:06.325395Z",
          "iopub.status.idle": "2024-04-17T15:00:06.326165Z",
          "shell.execute_reply.started": "2024-04-17T15:00:06.32577Z",
          "shell.execute_reply": "2024-04-17T15:00:06.32581Z"
        },
        "trusted": true,
        "id": "4-6MKfx5kuOC"
      },
      "execution_count": null,
      "outputs": []
    },
    {
      "cell_type": "code",
      "source": [
        "fig, ax = plt.subplots(2,2,figsize=(20,20))\n",
        "\n",
        "\n",
        "# ploteamos los reales vs los predichos\n",
        "sns.regplot(data = resultados[resultados['Set'] == \"Train\"],\n",
        "            x = \"Real\",\n",
        "            y = \"Predicted\",\n",
        "            ax = ax[0,0],\n",
        "            color = \"grey\",\n",
        "            line_kws = {\"color\": \"red\", \"alpha\": 0.7 })\n",
        "\n",
        "\n",
        "sns.regplot(data = resultados[resultados['Set'] == \"Test\"],\n",
        "            x = \"Real\",\n",
        "            y = \"Predicted\",\n",
        "            color = \"gray\",\n",
        "            line_kws = {\"color\": \"red\", \"alpha\": 0.7 },\n",
        "            ax = ax[1,0])\n",
        "\n",
        "\n",
        "# ploteamos los residuos\n",
        "sns.histplot(resultados[resultados['Set'] == \"Train\"],\n",
        "             x=\"residuos\",\n",
        "             color =\"grey\",\n",
        "             kde=True,\n",
        "             ax = ax[0,1])\n",
        "\n",
        "\n",
        "sns.histplot(resultados[resultados['Set'] == \"Test\"],\n",
        "             x=\"residuos\",\n",
        "             color = \"grey\",\n",
        "             kde=True,\n",
        "             ax = ax[1,1])\n",
        "\n",
        "ax[0,0].set_title(\"Train reales vs predichos\", fontsize = 15, fontweight = \"bold\")\n",
        "ax[0,1].set_title(\"Train residuos\", fontsize = 15, fontweight = \"bold\")\n",
        "ax[1,0].set_title(\"Test reales vs predichos\", fontsize = 15, fontweight = \"bold\")\n",
        "ax[1,1].set_title(\"Test residuos\", fontsize = 15, fontweight = \"bold\");\n"
      ],
      "metadata": {
        "execution": {
          "iopub.status.busy": "2024-04-17T15:00:06.32822Z",
          "iopub.status.idle": "2024-04-17T15:00:06.329081Z",
          "shell.execute_reply.started": "2024-04-17T15:00:06.32866Z",
          "shell.execute_reply": "2024-04-17T15:00:06.328702Z"
        },
        "trusted": true,
        "id": "oJ8KDxUTkuOC"
      },
      "execution_count": null,
      "outputs": []
    },
    {
      "cell_type": "code",
      "source": [
        "resultados_metricas = {'MAE': [mean_absolute_error(y_test, y_predict_test), mean_absolute_error(y_train, y_predict_train)],\n",
        "                'MSE': [mean_squared_error(y_test, y_predict_test), mean_squared_error(y_train, y_predict_train)],\n",
        "                'RMSE': [np.sqrt(mean_squared_error(y_test, y_predict_test)), np.sqrt(mean_squared_error(y_train, y_predict_train))],\n",
        "                'R2':  [r2_score(y_test, y_predict_test), r2_score(y_train, y_predict_train)],\n",
        "                 \"set\": [\"test\", \"train\"],\n",
        "                 \"modelo\": [\"Linear Regresion\", \"LinearRegression\"]}\n",
        "\n",
        "df_resultados = pd.DataFrame(resultados_metricas)\n",
        "\n",
        "df_resultados"
      ],
      "metadata": {
        "execution": {
          "iopub.status.busy": "2024-04-17T15:00:06.331833Z",
          "iopub.status.idle": "2024-04-17T15:00:06.332354Z",
          "shell.execute_reply.started": "2024-04-17T15:00:06.332105Z",
          "shell.execute_reply": "2024-04-17T15:00:06.332132Z"
        },
        "trusted": true,
        "id": "lIGZAFjrkuOC"
      },
      "execution_count": null,
      "outputs": []
    },
    {
      "cell_type": "code",
      "source": [
        "from sklearn.preprocessing import StandardScaler"
      ],
      "metadata": {
        "execution": {
          "iopub.status.busy": "2024-04-17T15:00:06.334226Z",
          "iopub.status.idle": "2024-04-17T15:00:06.334764Z",
          "shell.execute_reply.started": "2024-04-17T15:00:06.334505Z",
          "shell.execute_reply": "2024-04-17T15:00:06.334533Z"
        },
        "trusted": true,
        "id": "ElrFEZ14kuOC"
      },
      "execution_count": null,
      "outputs": []
    },
    {
      "cell_type": "code",
      "source": [
        "# Standardize the dataset\n",
        "sc = StandardScaler()\n",
        "x_train_std = sc.fit_transform(x_train)\n",
        "x_test_std = sc.transform(x_test)"
      ],
      "metadata": {
        "execution": {
          "iopub.status.busy": "2024-04-17T15:00:06.336525Z",
          "iopub.status.idle": "2024-04-17T15:00:06.337075Z",
          "shell.execute_reply.started": "2024-04-17T15:00:06.336811Z",
          "shell.execute_reply": "2024-04-17T15:00:06.33684Z"
        },
        "trusted": true,
        "id": "PS2PTkfxkuOD"
      },
      "execution_count": null,
      "outputs": []
    },
    {
      "cell_type": "code",
      "source": [
        "# Hyperparameters for GradientBoostingRegressor\n",
        "#\n",
        "gbr_params = {'n_estimators': 1000,\n",
        "          'max_depth': 3,\n",
        "          'min_samples_split': 5,\n",
        "          'learning_rate': 0.01,\n",
        "          'loss': 'absolute_error'}"
      ],
      "metadata": {
        "execution": {
          "iopub.status.busy": "2024-04-17T15:00:06.338736Z",
          "iopub.status.idle": "2024-04-17T15:00:06.339525Z",
          "shell.execute_reply.started": "2024-04-17T15:00:06.339165Z",
          "shell.execute_reply": "2024-04-17T15:00:06.339248Z"
        },
        "trusted": true,
        "id": "fljBEkXqkuOD"
      },
      "execution_count": null,
      "outputs": []
    },
    {
      "cell_type": "code",
      "source": [
        "# Create an instance of gradient boosting regressor\n",
        "#\n",
        "gbr = GradientBoostingRegressor(**gbr_params)\n",
        "#\n",
        "# Fit the model\n",
        "#\n",
        "gbr.fit(x_train_std, y_train)"
      ],
      "metadata": {
        "execution": {
          "iopub.status.busy": "2024-04-17T15:00:06.341241Z",
          "iopub.status.idle": "2024-04-17T15:00:06.341737Z",
          "shell.execute_reply.started": "2024-04-17T15:00:06.341501Z",
          "shell.execute_reply": "2024-04-17T15:00:06.341527Z"
        },
        "trusted": true,
        "id": "bY0SbrV7kuOD"
      },
      "execution_count": null,
      "outputs": []
    },
    {
      "cell_type": "code",
      "source": [
        "# Print Coefficient of determination R^2\n",
        "#\n",
        "print(\"Model Accuracy: %.3f\" % gbr.score(x_test_std, y_test))\n",
        "#\n",
        "# Create the mean squared error\n",
        "#\n",
        "mse = mean_squared_error(y_test, gbr.predict(x_test_std))\n",
        "print(\"The mean squared error (MSE) on test set: {:.4f}\".format(mse))\n",
        "#\n",
        "rmse= np.sqrt(mean_squared_error(y_test, x_test_std))"
      ],
      "metadata": {
        "execution": {
          "iopub.status.busy": "2024-04-17T15:00:06.343458Z",
          "iopub.status.idle": "2024-04-17T15:00:06.343972Z",
          "shell.execute_reply.started": "2024-04-17T15:00:06.343714Z",
          "shell.execute_reply": "2024-04-17T15:00:06.343741Z"
        },
        "trusted": true,
        "id": "GhL7Q0MkkuOD"
      },
      "execution_count": null,
      "outputs": []
    },
    {
      "cell_type": "markdown",
      "source": [
        "Smokers"
      ],
      "metadata": {
        "id": "7yrBFu0GkuOD"
      }
    },
    {
      "cell_type": "code",
      "source": [
        "dffum = df[(df['smoker'] == 1)]\n",
        "dffum"
      ],
      "metadata": {
        "execution": {
          "iopub.status.busy": "2024-04-17T15:00:06.346125Z",
          "iopub.status.idle": "2024-04-17T15:00:06.346604Z",
          "shell.execute_reply.started": "2024-04-17T15:00:06.346367Z",
          "shell.execute_reply": "2024-04-17T15:00:06.346391Z"
        },
        "trusted": true,
        "id": "EwUfLnd-kuOD"
      },
      "execution_count": null,
      "outputs": []
    },
    {
      "cell_type": "code",
      "source": [
        "X_fum = dffum.drop('charges',axis=1)\n",
        "y_fum= dffum['charges']"
      ],
      "metadata": {
        "execution": {
          "iopub.status.busy": "2024-04-17T15:00:06.348077Z",
          "iopub.status.idle": "2024-04-17T15:00:06.348577Z",
          "shell.execute_reply.started": "2024-04-17T15:00:06.348338Z",
          "shell.execute_reply": "2024-04-17T15:00:06.348364Z"
        },
        "trusted": true,
        "id": "-pWwTOmEkuOD"
      },
      "execution_count": null,
      "outputs": []
    },
    {
      "cell_type": "code",
      "source": [
        "from sklearn.model_selection import train_test_split\n",
        "X_train_fum, X_test_fum, y_train_fum, y_test_fum = train_test_split( X_fum, y_fum, test_size=0.2, random_state=42)\n",
        "X_train_fum.shape, X_test_fum.shape"
      ],
      "metadata": {
        "execution": {
          "iopub.status.busy": "2024-04-17T15:00:06.350431Z",
          "iopub.status.idle": "2024-04-17T15:00:06.350986Z",
          "shell.execute_reply.started": "2024-04-17T15:00:06.350694Z",
          "shell.execute_reply": "2024-04-17T15:00:06.35073Z"
        },
        "trusted": true,
        "id": "iUJVQwOKkuOE"
      },
      "execution_count": null,
      "outputs": []
    },
    {
      "cell_type": "code",
      "source": [
        "clf_fum = LazyRegressor(verbose=0)\n",
        "models_fum,predictions_fum = clf_fum.fit(X_train_fum, X_test_fum, y_train_fum, y_test_fum)\n",
        "models_fum"
      ],
      "metadata": {
        "execution": {
          "iopub.status.busy": "2024-04-17T15:00:06.35338Z",
          "iopub.status.idle": "2024-04-17T15:00:06.353907Z",
          "shell.execute_reply.started": "2024-04-17T15:00:06.353638Z",
          "shell.execute_reply": "2024-04-17T15:00:06.353667Z"
        },
        "trusted": true,
        "id": "4U41uoJdkuOE"
      },
      "execution_count": null,
      "outputs": []
    },
    {
      "cell_type": "markdown",
      "source": [
        "Non Smokers"
      ],
      "metadata": {
        "id": "2mwVvPBQkuOE"
      }
    },
    {
      "cell_type": "code",
      "source": [
        "dfnfum = df[(df['smoker'] == 0)]\n",
        "dfnfum.sample(5)"
      ],
      "metadata": {
        "execution": {
          "iopub.status.busy": "2024-04-17T15:00:06.356339Z",
          "iopub.status.idle": "2024-04-17T15:00:06.356843Z",
          "shell.execute_reply.started": "2024-04-17T15:00:06.356601Z",
          "shell.execute_reply": "2024-04-17T15:00:06.356626Z"
        },
        "trusted": true,
        "id": "5VOJ3hsbkuOE"
      },
      "execution_count": null,
      "outputs": []
    },
    {
      "cell_type": "code",
      "source": [
        "X_nfum = dfnfum.drop('charges',axis=1)\n",
        "y_nfum= dfnfum['charges']"
      ],
      "metadata": {
        "execution": {
          "iopub.status.busy": "2024-04-17T15:00:06.358154Z",
          "iopub.status.idle": "2024-04-17T15:00:06.358623Z",
          "shell.execute_reply.started": "2024-04-17T15:00:06.358385Z",
          "shell.execute_reply": "2024-04-17T15:00:06.358409Z"
        },
        "trusted": true,
        "id": "cUgZcWMukuOE"
      },
      "execution_count": null,
      "outputs": []
    },
    {
      "cell_type": "code",
      "source": [
        "from sklearn.model_selection import train_test_split\n",
        "X_train_nfum, X_test_nfum, y_train_nfum, y_test_nfum = train_test_split( X_nfum, y_nfum, test_size=0.2, random_state=42)\n",
        "X_train_nfum.shape, X_test_nfum.shape"
      ],
      "metadata": {
        "execution": {
          "iopub.status.busy": "2024-04-17T15:00:06.360112Z",
          "iopub.status.idle": "2024-04-17T15:00:06.360585Z",
          "shell.execute_reply.started": "2024-04-17T15:00:06.360349Z",
          "shell.execute_reply": "2024-04-17T15:00:06.360377Z"
        },
        "trusted": true,
        "id": "49PeUmZXkuOE"
      },
      "execution_count": null,
      "outputs": []
    },
    {
      "cell_type": "code",
      "source": [
        "clf_nfum = LazyRegressor(verbose=0)\n",
        "models_nfum,predictions_nfum = clf_nfum.fit(X_train_nfum, X_test_nfum, y_train_nfum, y_test_nfum)\n",
        "models_nfum"
      ],
      "metadata": {
        "execution": {
          "iopub.status.busy": "2024-04-17T15:00:06.362009Z",
          "iopub.status.idle": "2024-04-17T15:00:06.362469Z",
          "shell.execute_reply.started": "2024-04-17T15:00:06.362244Z",
          "shell.execute_reply": "2024-04-17T15:00:06.362268Z"
        },
        "trusted": true,
        "id": "TPOCqFtTkuOE"
      },
      "execution_count": null,
      "outputs": []
    },
    {
      "cell_type": "markdown",
      "source": [
        "Healthy BMI"
      ],
      "metadata": {
        "id": "4rvm2NDXkuOE"
      }
    },
    {
      "cell_type": "code",
      "source": [
        "df_bmi_ok = df[(df['bmi']<=25)]\n",
        "df_bmi_ok.sample(5)"
      ],
      "metadata": {
        "execution": {
          "iopub.status.busy": "2024-04-17T15:00:06.363994Z",
          "iopub.status.idle": "2024-04-17T15:00:06.364651Z",
          "shell.execute_reply.started": "2024-04-17T15:00:06.364315Z",
          "shell.execute_reply": "2024-04-17T15:00:06.364354Z"
        },
        "trusted": true,
        "id": "lS1JhnoZkuOF"
      },
      "execution_count": null,
      "outputs": []
    },
    {
      "cell_type": "code",
      "source": [
        "X_bmi_ok = df_bmi_ok.drop('charges',axis=1)\n",
        "y_bmi_ok= df_bmi_ok['charges']"
      ],
      "metadata": {
        "execution": {
          "iopub.status.busy": "2024-04-17T15:00:06.366043Z",
          "iopub.status.idle": "2024-04-17T15:00:06.366499Z",
          "shell.execute_reply.started": "2024-04-17T15:00:06.366274Z",
          "shell.execute_reply": "2024-04-17T15:00:06.366296Z"
        },
        "trusted": true,
        "id": "erW_66rvkuOF"
      },
      "execution_count": null,
      "outputs": []
    },
    {
      "cell_type": "code",
      "source": [
        "from sklearn.model_selection import train_test_split\n",
        "X_train_bmi_ok, X_test_bmi_ok, y_train_bmi_ok, y_test_bmi_ok = train_test_split( X_bmi_ok, y_bmi_ok, test_size=0.2, random_state=42)\n",
        "X_train_bmi_ok.shape, X_test_bmi_ok.shape"
      ],
      "metadata": {
        "execution": {
          "iopub.status.busy": "2024-04-17T15:00:06.367791Z",
          "iopub.status.idle": "2024-04-17T15:00:06.368351Z",
          "shell.execute_reply.started": "2024-04-17T15:00:06.368108Z",
          "shell.execute_reply": "2024-04-17T15:00:06.368136Z"
        },
        "trusted": true,
        "id": "NeDrOgGxkuOF"
      },
      "execution_count": null,
      "outputs": []
    },
    {
      "cell_type": "code",
      "source": [
        "clf_bmi_ok = LazyRegressor(verbose=0)\n",
        "models_bmi_ok,predictions_bmi_ok = clf_bmi_ok.fit(X_train_bmi_ok, X_test_bmi_ok, y_train_bmi_ok, y_test_bmi_ok)\n",
        "models_bmi_ok"
      ],
      "metadata": {
        "execution": {
          "iopub.status.busy": "2024-04-17T15:00:06.369465Z",
          "iopub.status.idle": "2024-04-17T15:00:06.369947Z",
          "shell.execute_reply.started": "2024-04-17T15:00:06.369682Z",
          "shell.execute_reply": "2024-04-17T15:00:06.369706Z"
        },
        "trusted": true,
        "id": "okw4gEywkuOF"
      },
      "execution_count": null,
      "outputs": []
    },
    {
      "cell_type": "markdown",
      "source": [
        "Unhealthy BMI"
      ],
      "metadata": {
        "id": "jVdhZI_XkuOF"
      }
    },
    {
      "cell_type": "code",
      "source": [
        "df = pd.read_csv(\"../data/00-insurance.csv\", index_col = 0).reset_index()\n",
        "df.head(2)"
      ],
      "metadata": {
        "execution": {
          "iopub.status.busy": "2024-04-17T15:00:06.371313Z",
          "iopub.status.idle": "2024-04-17T15:00:06.371759Z",
          "shell.execute_reply.started": "2024-04-17T15:00:06.371529Z",
          "shell.execute_reply": "2024-04-17T15:00:06.371552Z"
        },
        "trusted": true,
        "id": "EridZJbckuOF"
      },
      "execution_count": null,
      "outputs": []
    },
    {
      "cell_type": "code",
      "source": [
        "df.drop_duplicates(inplace=True)"
      ],
      "metadata": {
        "execution": {
          "iopub.status.busy": "2024-04-17T15:00:06.372975Z",
          "iopub.status.idle": "2024-04-17T15:00:06.374607Z",
          "shell.execute_reply.started": "2024-04-17T15:00:06.374276Z",
          "shell.execute_reply": "2024-04-17T15:00:06.374309Z"
        },
        "trusted": true,
        "id": "tc4hbSExkuOG"
      },
      "execution_count": null,
      "outputs": []
    },
    {
      "cell_type": "code",
      "source": [
        "df['sex'] = df['sex'].map({'female':0,'male':1})\n",
        "df['smoker'] = df['smoker'].map({'no':0,'yes':5})\n",
        "df['region'] = df['region'].map({'northeast':3,'northwest':1,'southeast':4,'southwest':2})\n",
        "df.head()"
      ],
      "metadata": {
        "execution": {
          "iopub.status.busy": "2024-04-17T15:00:06.375812Z",
          "iopub.status.idle": "2024-04-17T15:00:06.376352Z",
          "shell.execute_reply.started": "2024-04-17T15:00:06.376093Z",
          "shell.execute_reply": "2024-04-17T15:00:06.37612Z"
        },
        "trusted": true,
        "id": "hdxujQjYkuOG"
      },
      "execution_count": null,
      "outputs": []
    },
    {
      "cell_type": "code",
      "source": [
        "df_bmi_nok = df[(df['bmi'] >25)]\n",
        "df_bmi_nok.sample(5)"
      ],
      "metadata": {
        "execution": {
          "iopub.status.busy": "2024-04-17T15:00:06.37798Z",
          "iopub.status.idle": "2024-04-17T15:00:06.378448Z",
          "shell.execute_reply.started": "2024-04-17T15:00:06.37822Z",
          "shell.execute_reply": "2024-04-17T15:00:06.378244Z"
        },
        "trusted": true,
        "id": "XSN6OSDpkuOG"
      },
      "execution_count": null,
      "outputs": []
    },
    {
      "cell_type": "code",
      "source": [
        "X_bmi_nok = df_bmi_nok.drop('charges',axis=1)\n",
        "y_bmi_nok= df_bmi_nok['charges']"
      ],
      "metadata": {
        "execution": {
          "iopub.status.busy": "2024-04-17T15:00:06.379712Z",
          "iopub.status.idle": "2024-04-17T15:00:06.380213Z",
          "shell.execute_reply.started": "2024-04-17T15:00:06.379963Z",
          "shell.execute_reply": "2024-04-17T15:00:06.379987Z"
        },
        "trusted": true,
        "id": "YZBa1kNfkuOG"
      },
      "execution_count": null,
      "outputs": []
    },
    {
      "cell_type": "code",
      "source": [
        "from sklearn.model_selection import train_test_split\n",
        "X_train_bmi_nok, X_test_bmi_nok, y_train_bmi_nok, y_test_bmi_nok = train_test_split( X_bmi_nok, y_bmi_nok, test_size=0.2, random_state=42)\n",
        "X_train_bmi_nok.shape, X_test_bmi_nok.shape"
      ],
      "metadata": {
        "execution": {
          "iopub.status.busy": "2024-04-17T15:00:06.381713Z",
          "iopub.status.idle": "2024-04-17T15:00:06.382203Z",
          "shell.execute_reply.started": "2024-04-17T15:00:06.381961Z",
          "shell.execute_reply": "2024-04-17T15:00:06.381985Z"
        },
        "trusted": true,
        "id": "VAZVKLzakuOG"
      },
      "execution_count": null,
      "outputs": []
    },
    {
      "cell_type": "code",
      "source": [
        "clf_bmi_nok = LazyRegressor(verbose=0)\n",
        "models_bmi_nok,predictions_bmi_nok = clf_bmi_nok.fit(X_train_bmi_nok, X_test_bmi_nok, y_train_bmi_nok, y_test_bmi_nok)\n",
        "models_bmi_nok"
      ],
      "metadata": {
        "execution": {
          "iopub.status.busy": "2024-04-17T15:00:06.384025Z",
          "iopub.status.idle": "2024-04-17T15:00:06.384494Z",
          "shell.execute_reply.started": "2024-04-17T15:00:06.384268Z",
          "shell.execute_reply": "2024-04-17T15:00:06.384292Z"
        },
        "trusted": true,
        "id": "7c4hhIJjkuOH"
      },
      "execution_count": null,
      "outputs": []
    },
    {
      "cell_type": "code",
      "source": [
        "## Best metrics are given by GradientBooster, our response variable does not have a normal distribution, nor is the relationship with the response variables entirely linear. We could fit the model with interval prediction."
      ],
      "metadata": {
        "execution": {
          "iopub.status.busy": "2024-04-17T15:00:06.386028Z",
          "iopub.status.idle": "2024-04-17T15:00:06.38649Z",
          "shell.execute_reply.started": "2024-04-17T15:00:06.386263Z",
          "shell.execute_reply": "2024-04-17T15:00:06.386287Z"
        },
        "trusted": true,
        "id": "xaMILX2ckuOH"
      },
      "execution_count": null,
      "outputs": []
    },
    {
      "cell_type": "markdown",
      "source": [
        "## Conclusions:"
      ],
      "metadata": {
        "id": "QXnt3nw-kuOH"
      }
    },
    {
      "cell_type": "markdown",
      "source": [
        "Our data includes mostly overweight, middle-aged clients with healthy smoking habits and no children. The trend lines of annual premiums are mostly conditioned by smoking and age (remembering that an unhealthy BMI is always the basis in most cases, and is an important driver of premiums).\n",
        "Of these, smoking (difficult to monitor) and BMI (easily monitored) are variables.\n",
        "Our model, is able to predict with accuracy: 0.826 and mean squared error (MSE) on test set: 31916978 the annual insurance premium with these variables.\n"
      ],
      "metadata": {
        "id": "eXJtt8DckuOH"
      }
    },
    {
      "cell_type": "markdown",
      "source": [
        "## Proposal:"
      ],
      "metadata": {
        "id": "yvpgT573kuOH"
      }
    },
    {
      "cell_type": "markdown",
      "source": [
        "Creation of an interactive campaign in which potential new and existing customers can calculate the reduction in the amount of their annual insurance premium by enrolling in a weight reduction programme and maintaining their reduced BMI almost for a year (supervised) to achieve this reduction in the annual insurance premium, taking into account future ages for the calculation."
      ],
      "metadata": {
        "id": "eXYY9PIikuOH"
      }
    },
    {
      "cell_type": "code",
      "source": [
        "1.Promote interaction of customers and prospective customers by calculating their insurance premiums and their decrease by improving their BMI\n",
        "2.Facilitating access to slimming programmes for clients and future clients\n",
        "3.Check annual monitoring of clients' maintenance of new BMI and healthy habits\n",
        "4.Promoting healthy smoking habits (further benefits)"
      ],
      "metadata": {
        "execution": {
          "iopub.status.busy": "2024-04-17T15:00:06.389642Z",
          "iopub.status.idle": "2024-04-17T15:00:06.390442Z",
          "shell.execute_reply.started": "2024-04-17T15:00:06.389996Z",
          "shell.execute_reply": "2024-04-17T15:00:06.390037Z"
        },
        "trusted": true,
        "id": "nR_3nydLkuOH"
      },
      "execution_count": null,
      "outputs": []
    },
    {
      "cell_type": "code",
      "source": [
        "Next steps\n",
        "\n",
        "1.Develop a model to predict future spending after a year of declining BMI\n",
        "2.Calculate benefit for the year during the insured's BMI decline while maintaining the old BMI premium.\n",
        "3.Determine time in which health expenditure actually decreases with decreasing BMI"
      ],
      "metadata": {
        "execution": {
          "iopub.status.busy": "2024-04-17T15:00:06.392901Z",
          "iopub.status.idle": "2024-04-17T15:00:06.393489Z",
          "shell.execute_reply.started": "2024-04-17T15:00:06.393215Z",
          "shell.execute_reply": "2024-04-17T15:00:06.393243Z"
        },
        "trusted": true,
        "id": "FL-SrC2RkuOI"
      },
      "execution_count": null,
      "outputs": []
    }
  ]
}